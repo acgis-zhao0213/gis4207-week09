{
 "cells": [
  {
   "cell_type": "code",
   "execution_count": 2,
   "metadata": {},
   "outputs": [],
   "source": [
    "import arcpy\n"
   ]
  },
  {
   "cell_type": "code",
   "execution_count": null,
   "metadata": {},
   "outputs": [],
   "source": [
    "import sys\n",
    "import arcpy\n",
    "ws = r'..\\..\\..\\..\\data\\Canada'\n",
    "arcpy.env.workspace = ws\n",
    "fc = 'Can_Mjr_Cities.shp'\n",
    "\n",
    "fields=['NAME','PROV']\n",
    "with arcpy.da.SearchCursor(fc,fields) as cursor:\n",
    "    # count=0\n",
    "    for row in cursor:\n",
    "    #     count+=1\n",
    "        print(row)"
   ]
  },
  {
   "cell_type": "code",
   "execution_count": 15,
   "metadata": {},
   "outputs": [
    {
     "name": "stdout",
     "output_type": "stream",
     "text": [
      "c:\\acgis\\gis4207_prog\\week_09\\lab\\gis4207-week09\n",
      "c:\\acgis\\gis4207_prog\\week_09\\lab\\gis4207-week09\\output\\Cities.kml\n"
     ]
    }
   ],
   "source": [
    "from lxml import etree\n",
    "import arcpy\n",
    "import os\n",
    "# Check prov_abbrev is ON, QC, ...\n",
    "prov_name = ['ON','QC','NB','NS']\n",
    "ws = r'..\\..\\..\\..\\data\\Canada\\Canada.gdb'\n",
    "# prov = sys.argv[1].upper()\n",
    "fields=['NAME','PROV','SHAPE@X','SHAPE@Y','UTM_MAP']\n",
    "# field = arcpy.AddFieldDelimiters(ws, 'PROV')\n",
    "\n",
    "# where_clause = f\"{field} = '{prov}'\"\n",
    "\n",
    "arcpy.env.workspace = ws\n",
    "fc = 'MajorCities'\n",
    "# create KML document\n",
    "kml_doc = etree.Element(\"kml\", xmlns=\"http://www.opengis.net/kml/2.2\")\n",
    "doc = etree.SubElement(kml_doc, \"Document\")\n",
    "with arcpy.da.SearchCursor(fc, fields) as cursor:\n",
    "    for row in cursor:\n",
    "        name = row[0] + \", \" + row[1]\n",
    "        url = \"http://www.canmaps.com/topo/nts50/map/{}.htm\".format(row[4])\n",
    "        coordinates = \"{}\".format(row[2],row[3]) # replace with actual coordinates\n",
    "        placemark = etree.SubElement(doc, \"Placemark\")\n",
    "        etree.SubElement(placemark, \"name\").text = name\n",
    "        etree.SubElement(placemark, \"description\").text = url\n",
    "        point = etree.SubElement(placemark, \"Point\")\n",
    "        etree.SubElement(point, \"coordinates\").text = coordinates\n",
    "\n",
    "parent_dir = os.path.abspath(os.path.join(os.getcwd(), \"..\"))\n",
    "output_path = os.path.join(parent_dir, \"output\",\"Cities.kml\")\n",
    "print(parent_dir)\n",
    "print(output_path)\n",
    "# write KML document to file\n",
    "with open(output_path, \"wb\") as f:\n",
    "    f.write(etree.tostring(kml_doc, pretty_print=True))"
   ]
  },
  {
   "cell_type": "code",
   "execution_count": null,
   "metadata": {},
   "outputs": [],
   "source": []
  }
 ],
 "metadata": {
  "kernelspec": {
   "display_name": "Python 3",
   "language": "python",
   "name": "python3"
  },
  "language_info": {
   "codemirror_mode": {
    "name": "ipython",
    "version": 3
   },
   "file_extension": ".py",
   "mimetype": "text/x-python",
   "name": "python",
   "nbconvert_exporter": "python",
   "pygments_lexer": "ipython3",
   "version": "3.9.11"
  },
  "orig_nbformat": 4,
  "vscode": {
   "interpreter": {
    "hash": "0b86084095806ab4eb7b02e282f5b55985e0547bc25de6496ef4cf59852288e9"
   }
  }
 },
 "nbformat": 4,
 "nbformat_minor": 2
}
